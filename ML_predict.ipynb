{
 "cells": [
  {
   "cell_type": "code",
   "execution_count": 4,
   "id": "c9cce357-4bbd-4e1c-866c-42703064cfe0",
   "metadata": {},
   "outputs": [],
   "source": [
    "import pandas as pd "
   ]
  },
  {
   "cell_type": "code",
   "execution_count": 5,
   "id": "c50cb080-e835-4d50-b2d4-0dbec643b6b6",
   "metadata": {},
   "outputs": [],
   "source": [
    "df = pd.read_csv('final_df_for_tab.csv')"
   ]
  },
  {
   "cell_type": "code",
   "execution_count": 7,
   "id": "7e5cf1e1-e5d0-4827-ac37-0829bbc25199",
   "metadata": {},
   "outputs": [
    {
     "data": {
      "text/plain": [
       "Index(['ms_nr', 'bundesland', 'behoerde', 'kreis', 'bez', 'ags', 'latitude',\n",
       "       'longitude', 'pct_data_1990_2021', 'trend_normalized', 'trend_bin',\n",
       "       'trend_raw', 'range', 'p_value', '2012_x', '2013_x', '2014_x', '2015_x',\n",
       "       '2016_x', '2017_x', '2018_x', '2019_x', '2020_x', '2021_x',\n",
       "       'messstellen_insgesamt', '2012_y', '2013_y', '2014_y', '2015_y',\n",
       "       '2016_y', '2017_y', '2018_y', '2019_y', '2020_y', '2021_y'],\n",
       "      dtype='object')"
      ]
     },
     "execution_count": 7,
     "metadata": {},
     "output_type": "execute_result"
    }
   ],
   "source": [
    "df.columns"
   ]
  },
  {
   "cell_type": "code",
   "execution_count": 9,
   "id": "41de2a89-da5b-4121-a47b-45ffeb84dc2b",
   "metadata": {},
   "outputs": [
    {
     "data": {
      "text/plain": [
       "array(['kein starker Trend', 'leicht sinkend', 'stark steigend',\n",
       "       'stark sinkend', 'leicht steigend'], dtype=object)"
      ]
     },
     "execution_count": 9,
     "metadata": {},
     "output_type": "execute_result"
    }
   ],
   "source": [
    "df['trend_bin'].unique()"
   ]
  },
  {
   "cell_type": "code",
   "execution_count": null,
   "id": "22122cb2-5b68-432c-9713-3cd16806d531",
   "metadata": {},
   "outputs": [],
   "source": []
  }
 ],
 "metadata": {
  "kernelspec": {
   "display_name": "Python 3 (ipykernel)",
   "language": "python",
   "name": "python3"
  },
  "language_info": {
   "codemirror_mode": {
    "name": "ipython",
    "version": 3
   },
   "file_extension": ".py",
   "mimetype": "text/x-python",
   "name": "python",
   "nbconvert_exporter": "python",
   "pygments_lexer": "ipython3",
   "version": "3.11.7"
  }
 },
 "nbformat": 4,
 "nbformat_minor": 5
}
